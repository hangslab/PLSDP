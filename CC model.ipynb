{
 "cells": [
  {
   "cell_type": "code",
   "execution_count": 4,
   "id": "nominated-rendering",
   "metadata": {},
   "outputs": [],
   "source": [
    "import tensorflow as tf"
   ]
  },
  {
   "cell_type": "code",
   "execution_count": 2,
   "id": "potential-world",
   "metadata": {},
   "outputs": [
    {
     "name": "stdout",
     "output_type": "stream",
     "text": [
      "CC Moudle\n"
     ]
    }
   ],
   "source": [
    "print(\"CC Moudle\")"
   ]
  },
  {
   "cell_type": "markdown",
   "id": "removable-advisory",
   "metadata": {},
   "source": [
    "def INF(B,H,W):\n",
    "     return -torch.diag(torch.tensor(float(\"inf\")).cuda().repeat(H),0).unsqueeze(0).repeat(B*W,1,1)"
   ]
  },
  {
   "cell_type": "code",
   "execution_count": 8,
   "id": "normal-noise",
   "metadata": {},
   "outputs": [],
   "source": [
    "def INF(B,H,N):\n",
    "    inf = tf.convert_to_tensor(float(\"inf\"))\n",
    "    inf = tf.tile(inf,[H])\n",
    "    inf_diag = tf.diag_part(inf)\n",
    "    inf_diag_ = tf.expand_dims(inf_diag,axis=0)\n",
    "    inf_diag_ = tf.tile(inf_diag_,[B*W,1,1])\n",
    "    return -inf_diag_"
   ]
  },
  {
   "cell_type": "markdown",
   "id": "crazy-incentive",
   "metadata": {},
   "source": [
    "class CC_module(nn.Module):\n",
    "    def __init__(self,in_dim):\n",
    "        super(CC_module, self).__init__()\n",
    "        self.query_conv = nn.Conv2d(in_channels=in_dim, out_channels=in_dim//8, kernel_size=1)\n",
    "        self.key_conv = nn.Conv2d(in_channels=in_dim, out_channels=in_dim//8, kernel_size=1)\n",
    "        self.value_conv = nn.Conv2d(in_channels=in_dim, out_channels=in_dim, kernel_size=1)\n",
    "        self.softmax = Softmax(dim=3)\n",
    "        self.INF = INF\n",
    "        self.gamma = nn.Parameter(torch.zeros(1))"
   ]
  },
  {
   "cell_type": "code",
   "execution_count": 2,
   "id": "accomplished-girlfriend",
   "metadata": {},
   "outputs": [],
   "source": [
    "class CC_module():\n",
    "    def __init__(self,in_dim):\n",
    "        super(CC_module, self).__init__() \n",
    "        self.query_conv = nn.conv2d(input, filter, strides, padding, use_cudnn_on_gpu=None, name=None)\n",
    "\n",
    "        self.key_conv = nn.Conv2d(in_channels=in_dim, out_channels=in_dim//8, kernel_size=1)\n",
    "        self.value_conv = nn.Conv2d(in_channels=in_dim, out_channels=in_dim, kernel_size=1)\n",
    "        self.softmax = Softmax(dim=3)\n",
    "        self.INF = INF\n",
    "        self.gamma = nn.Parameter(torch.zeros(1))\n",
    "    \n",
    "    "
   ]
  },
  {
   "cell_type": "code",
   "execution_count": null,
   "id": "level-denver",
   "metadata": {},
   "outputs": [],
   "source": []
  }
 ],
 "metadata": {
  "kernelspec": {
   "display_name": "Python 3",
   "language": "python",
   "name": "python3"
  },
  "language_info": {
   "codemirror_mode": {
    "name": "ipython",
    "version": 3
   },
   "file_extension": ".py",
   "mimetype": "text/x-python",
   "name": "python",
   "nbconvert_exporter": "python",
   "pygments_lexer": "ipython3",
   "version": "3.7.10"
  }
 },
 "nbformat": 4,
 "nbformat_minor": 5
}
